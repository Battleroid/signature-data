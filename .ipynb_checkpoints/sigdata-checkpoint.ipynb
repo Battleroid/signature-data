{
 "cells": [
  {
   "cell_type": "code",
   "execution_count": 103,
   "metadata": {
    "collapsed": false
   },
   "outputs": [],
   "source": [
    "import pandas as pd\n",
    "import os\n",
    "working_files_dir = './working'\n",
    "if not os.path.exists(working_files_dir):\n",
    "    os.mkdir(working_files_dir)"
   ]
  },
  {
   "cell_type": "code",
   "execution_count": 104,
   "metadata": {
    "collapsed": true
   },
   "outputs": [],
   "source": [
    "# Load data from CSV, group by Enclosure and get columns for locuses for removing them later.\n",
    "data = pd.read_csv('prepped.csv')\n",
    "grouped = data.groupby('Enclosure')\n",
    "locuses = data.filter(like='Locus').columns"
   ]
  },
  {
   "cell_type": "code",
   "execution_count": 105,
   "metadata": {
    "collapsed": false
   },
   "outputs": [],
   "source": [
    "# Get total number of observations for each enclosure.\n",
    "abundance_group = grouped.size()\n",
    "abundance_items = [(k, v) for k, v in abundance_group.items()]\n",
    "abundance = pd.DataFrame(abundance_items, columns=['Enclosure', 'Count'])\n",
    "abundance.to_csv('abundance.csv')"
   ]
  },
  {
   "cell_type": "code",
   "execution_count": 106,
   "metadata": {
    "collapsed": false
   },
   "outputs": [
    {
     "name": "stdout",
     "output_type": "stream",
     "text": [
      "Saved 41A_n as ./working/41A_n.csv\n",
      "Saved 41A_w as ./working/41A_w.csv\n",
      "Saved 43A_e as ./working/43A_e.csv\n",
      "Saved 43A_n as ./working/43A_n.csv\n",
      "Saved 44_e as ./working/44_e.csv\n",
      "Saved 44_n as ./working/44_n.csv\n",
      "Saved 44_s as ./working/44_s.csv\n",
      "Saved 46_e as ./working/46_e.csv\n",
      "Saved 46_n as ./working/46_n.csv\n",
      "Saved 48B_e as ./working/48B_e.csv\n",
      "Saved 48B_s as ./working/48B_s.csv\n",
      "Saved 54B_e as ./working/54B_e.csv\n",
      "Saved 54B_w as ./working/54B_w.csv\n",
      "Saved 56B_n as ./working/56B_n.csv\n",
      "Saved 56B_s as ./working/56B_s.csv\n",
      "Saved 58E_e as ./working/58E_e.csv\n",
      "Saved 58E_n as ./working/58E_n.csv\n",
      "Saved 58E_w as ./working/58E_w.csv\n",
      "Saved 59_e as ./working/59_e.csv\n",
      "Saved 59_n as ./working/59_n.csv\n",
      "Saved 59_s as ./working/59_s.csv\n",
      "Saved 60D_e as ./working/60D_e.csv\n",
      "Saved 60D_n as ./working/60D_n.csv\n",
      "Saved 60D_s as ./working/60D_s.csv\n",
      "Saved 61A_e as ./working/61A_e.csv\n",
      "Saved 61A_n as ./working/61A_n.csv\n",
      "Saved 61A_s as ./working/61A_s.csv\n",
      "Saved 61B_e as ./working/61B_e.csv\n",
      "Saved 61B_n as ./working/61B_n.csv\n",
      "Saved 61B_s as ./working/61B_s.csv\n"
     ]
    }
   ],
   "source": [
    "for group in grouped:\n",
    "    path = os.path.join(working_files_dir, group[0] + '.csv')\n",
    "    group[1].to_csv(path)\n",
    "    print('Saved {} as {}'.format(group[0], path))"
   ]
  }
 ],
 "metadata": {
  "kernelspec": {
   "display_name": "Python 3",
   "language": "python",
   "name": "python3"
  },
  "language_info": {
   "codemirror_mode": {
    "name": "ipython",
    "version": 3
   },
   "file_extension": ".py",
   "mimetype": "text/x-python",
   "name": "python",
   "nbconvert_exporter": "python",
   "pygments_lexer": "ipython3",
   "version": "3.4.3"
  }
 },
 "nbformat": 4,
 "nbformat_minor": 0
}
