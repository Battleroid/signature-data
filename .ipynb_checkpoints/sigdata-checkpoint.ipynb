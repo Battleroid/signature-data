{
 "cells": [
  {
   "cell_type": "code",
   "execution_count": 31,
   "metadata": {
    "collapsed": false
   },
   "outputs": [],
   "source": [
    "import pandas as pd\n",
    "import os\n",
    "\n",
    "root = './data'\n",
    "if not os.path.exists(root): os.mkdir(root)\n",
    "directories = dict(\n",
    "    working='working',\n",
    "    csv='csv',\n",
    "    excel='excel',\n",
    "    neighbors='neighbors'\n",
    ")\n",
    "\n",
    "for k, v in directories.items():\n",
    "    directories[k] = os.path.join(root, v)\n",
    "    if not os.path.exists(directories[k]):\n",
    "        os.mkdir(directories[k])"
   ]
  },
  {
   "cell_type": "code",
   "execution_count": 32,
   "metadata": {
    "collapsed": false
   },
   "outputs": [],
   "source": [
    "# Load data from CSV, group by Enclosure and get columns for locuses for removing them later.\n",
    "data = pd.read_csv(os.path.join(directories['csv'], 'prepped.csv'))\\\n",
    "# Remove Locuses without reassignment (inplace)\n",
    "locuses = data.filter(like='Locus').columns\n",
    "data.drop(locuses, axis=1, inplace=True)\n",
    "# Group by enclosure (region)\n",
    "grouped = data.groupby('Enclosure')"
   ]
  },
  {
   "cell_type": "code",
   "execution_count": 33,
   "metadata": {
    "collapsed": false
   },
   "outputs": [],
   "source": [
    "# Get total number of observations for each enclosure.\n",
    "abundance_group = grouped.size()\n",
    "abundance_items = [(k, v) for k, v in abundance_group.items()]\n",
    "abundance = pd.DataFrame(abundance_items, columns=['Enclosure', 'Count'])\n",
    "abundance.to_csv(os.path.join(directories['csv'], 'abundance.csv'))"
   ]
  },
  {
   "cell_type": "code",
   "execution_count": 34,
   "metadata": {
    "collapsed": false
   },
   "outputs": [],
   "source": [
    "# Save each group to a working file (group regions to their own file)\n",
    "for group in grouped:\n",
    "    path = os.path.join(directories['working'], group[0] + '.csv')\n",
    "    group[1].to_csv(path)\n",
    "    # print('Saved {} as {}'.format(group[0], path))"
   ]
  },
  {
   "cell_type": "code",
   "execution_count": 35,
   "metadata": {
    "collapsed": false
   },
   "outputs": [],
   "source": [
    "# Sample pull for single item\n",
    "# from neighbor import Neighbor\n",
    "# import operator\n",
    "# sample = pd.read_csv(os.path.join(directories['working'], '41A_n.csv'))\n",
    "# a = sample.iloc()[0]\n",
    "# a_data = a.filter(like='Nr').values.tolist()\n",
    "# # against\n",
    "# b = sample.iloc()[6]\n",
    "# b_data = b.filter(like='Nr').values.tolist()\n",
    "# # show\n",
    "# print(a_data, 'vs', b_data)\n",
    "# # try\n",
    "# n = Neighbor(a_data)\n",
    "# print(n.diff(b_data))\n",
    "# n.check(b_data)"
   ]
  },
  {
   "cell_type": "code",
   "execution_count": 53,
   "metadata": {
    "collapsed": false
   },
   "outputs": [
    {
     "name": "stdout",
     "output_type": "stream",
     "text": [
      "41A_n \t 10\n",
      "41A_w \t 12\n",
      "43A_e \t 15\n",
      "43A_n \t 6\n",
      "44_e \t 40\n",
      "44_n \t 26\n",
      "44_s \t 20\n",
      "46_e \t 7\n",
      "46_n \t 7\n",
      "48B_e \t 11\n",
      "48B_s \t 10\n",
      "54B_e \t 28\n",
      "54B_w \t 11\n",
      "56B_n \t 13\n",
      "56B_s \t 10\n",
      "58E_e \t 16\n",
      "58E_n \t 27\n",
      "58E_w \t 8\n",
      "59_e \t 7\n",
      "59_n \t 20\n",
      "59_s \t 17\n",
      "60D_e \t 16\n",
      "60D_n \t 12\n",
      "60D_s \t 17\n",
      "61A_e \t 11\n",
      "61A_n \t 16\n",
      "61A_s \t 14\n",
      "61B_e \t 8\n",
      "61B_n \t 21\n",
      "61B_s \t 27\n",
      "Saved \t61B_n\t./data/neighbors/61B_n.csv\n",
      "Saved \t54B_w\t./data/neighbors/54B_w.csv\n",
      "Saved \t61A_e\t./data/neighbors/61A_e.csv\n",
      "Saved \t61A_s\t./data/neighbors/61A_s.csv\n",
      "Saved \t61B_s\t./data/neighbors/61B_s.csv\n",
      "Saved \t61B_e\t./data/neighbors/61B_e.csv\n",
      "Saved \t56B_n\t./data/neighbors/56B_n.csv\n",
      "Saved \t60D_s\t./data/neighbors/60D_s.csv\n",
      "Saved \t58E_e\t./data/neighbors/58E_e.csv\n",
      "Saved \t58E_n\t./data/neighbors/58E_n.csv\n",
      "Saved \t46_n\t./data/neighbors/46_n.csv\n",
      "Saved \t43A_n\t./data/neighbors/43A_n.csv\n",
      "Saved \t44_n\t./data/neighbors/44_n.csv\n",
      "Saved \t44_e\t./data/neighbors/44_e.csv\n",
      "Saved \t61A_n\t./data/neighbors/61A_n.csv\n",
      "Saved \t59_e\t./data/neighbors/59_e.csv\n",
      "Saved \t58E_w\t./data/neighbors/58E_w.csv\n",
      "Saved \t41A_w\t./data/neighbors/41A_w.csv\n",
      "Saved \t46_e\t./data/neighbors/46_e.csv\n",
      "Saved \t60D_n\t./data/neighbors/60D_n.csv\n",
      "Saved \t43A_e\t./data/neighbors/43A_e.csv\n",
      "Saved \t41A_n\t./data/neighbors/41A_n.csv\n",
      "Saved \t56B_s\t./data/neighbors/56B_s.csv\n",
      "Saved \t59_n\t./data/neighbors/59_n.csv\n",
      "Saved \t44_s\t./data/neighbors/44_s.csv\n",
      "Saved \t48B_e\t./data/neighbors/48B_e.csv\n",
      "Saved \t48B_s\t./data/neighbors/48B_s.csv\n",
      "Saved \t54B_e\t./data/neighbors/54B_e.csv\n",
      "Saved \t60D_e\t./data/neighbors/60D_e.csv\n",
      "Saved \t59_s\t./data/neighbors/59_s.csv\n"
     ]
    }
   ],
   "source": [
    "import operator\n",
    "import numpy\n",
    "from neighbor import Neighbor\n",
    "\n",
    "# For reach region pull data and build adjacency matrix\n",
    "regions = sorted(os.listdir(directories['working']))\n",
    "matrices = dict()\n",
    "for region in regions:\n",
    "    # setup basic info for region\n",
    "    region_name = os.path.splitext(region)[0]\n",
    "    data = pd.read_csv(os.path.join(directories['working'], region))\n",
    "    total_rows = len(data.index)\n",
    "    labels = data['Label'].tolist()\n",
    "    adjacency = numpy.zeros((total_rows, total_rows), int)\n",
    "    # print(region_name, '\\t', total_rows)\n",
    "    for idx in range(0, total_rows):\n",
    "        # setup base data for base record\n",
    "        row = data.iloc()[idx]\n",
    "        row_data = row.filter(like='Nr').values.tolist()\n",
    "        n = Neighbor(row_data, 1)\n",
    "        # now build neighboring data for that element\n",
    "        for idy in range(0, total_rows):\n",
    "            against = data.iloc()[idy]\n",
    "            against_data = against.filter(like='Nr').values.tolist()\n",
    "            i = n.check(against_data)\n",
    "            adjacency[idx,idy] = i\n",
    "    matrices[region_name] = pd.DataFrame(adjacency, labels, labels)\n",
    "\n",
    "# save all matrices\n",
    "for n, m in matrices.items():\n",
    "    path = os.path.join(directories['neighbors'], n + '.csv')\n",
    "    m.to_csv(path)\n",
    "    print('Saved {} to {}'.format(n, path))"
   ]
  },
  {
   "cell_type": "code",
   "execution_count": 43,
   "metadata": {
    "collapsed": true
   },
   "outputs": [],
   "source": [
    "# create dataframes for each matrix?\n",
    "# use labels from each region to build Series for index/col"
   ]
  },
  {
   "cell_type": "code",
   "execution_count": null,
   "metadata": {
    "collapsed": true
   },
   "outputs": [],
   "source": []
  }
 ],
 "metadata": {
  "kernelspec": {
   "display_name": "Python 3",
   "language": "python",
   "name": "python3"
  },
  "language_info": {
   "codemirror_mode": {
    "name": "ipython",
    "version": 3
   },
   "file_extension": ".py",
   "mimetype": "text/x-python",
   "name": "python",
   "nbconvert_exporter": "python",
   "pygments_lexer": "ipython3",
   "version": "3.4.3"
  }
 },
 "nbformat": 4,
 "nbformat_minor": 0
}
